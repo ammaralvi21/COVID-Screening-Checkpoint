{
  "nbformat": 4,
  "nbformat_minor": 0,
  "metadata": {
    "colab": {
      "name": "Face Mask Detector Training.ipynb",
      "provenance": [],
      "authorship_tag": "ABX9TyO4Dap2nnqLLQzury5S1+pN",
      "include_colab_link": true
    },
    "kernelspec": {
      "name": "python3",
      "display_name": "Python 3"
    }
  },
  "cells": [
    {
      "cell_type": "markdown",
      "metadata": {
        "id": "view-in-github",
        "colab_type": "text"
      },
      "source": [
        "<a href=\"https://colab.research.google.com/github/ammaralvi21/Portable-COVID-19-Screening-Device/blob/Train-Face-Detector-Model/Face_Mask_Detector_Training.ipynb\" target=\"_parent\"><img src=\"https://colab.research.google.com/assets/colab-badge.svg\" alt=\"Open In Colab\"/></a>"
      ]
    },
    {
      "cell_type": "code",
      "metadata": {
        "id": "IaJOFFfl1dug"
      },
      "source": [
        "!cd /content/"
      ],
      "execution_count": 9,
      "outputs": []
    }
  ]
}